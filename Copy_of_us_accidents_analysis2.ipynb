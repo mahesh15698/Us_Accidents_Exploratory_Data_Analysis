{
  "cells": [
    {
      "cell_type": "code",
      "execution_count": null,
      "metadata": {
        "id": "goZAFrAn4nlq"
      },
      "outputs": [],
      "source": [
        "# Jovian Commit Essentials\n",
        "# Please retain and execute this cell without modifying the contents for `jovian.commit` to work\n",
        "!pip install jovian --upgrade -q\n",
        "import jovian\n",
        "jovian.set_project('us-accidents-analysis2')\n",
        "jovian.set_colab_id('11FvmZVm4Eg9wRjGAePgNDdi4qf5Ny_UD')"
      ]
    },
    {
      "cell_type": "markdown",
      "metadata": {
        "id": "7-dfcJtu4nlu"
      },
      "source": [
        "# us-accidents-analysis2\n",
        "\n",
        "Use the \"Run\" button to execute the code."
      ]
    },
    {
      "cell_type": "code",
      "execution_count": null,
      "metadata": {
        "id": "4lLKtFlY4nlv"
      },
      "outputs": [],
      "source": [
        "!pip install jovian --upgrade --quiet"
      ]
    },
    {
      "cell_type": "code",
      "execution_count": null,
      "metadata": {
        "id": "_Te3Crac4nlw"
      },
      "outputs": [],
      "source": [
        "import jovian"
      ]
    },
    {
      "cell_type": "code",
      "execution_count": null,
      "metadata": {
        "id": "74-tpwXM4nlw"
      },
      "outputs": [],
      "source": [
        "# Execute this to save new versions of the notebook\n",
        "jovian.commit(project=\"us-accidents-analysis2\")"
      ]
    },
    {
      "cell_type": "code",
      "execution_count": null,
      "metadata": {
        "id": "qHAMIy5_4nlx"
      },
      "outputs": [],
      "source": [
        "pip install opendatasets --upgrade --quiet"
      ]
    },
    {
      "cell_type": "markdown",
      "metadata": {
        "id": "vfGNX1vf6bHh"
      },
      "source": [
        "#Download the Data\n"
      ]
    },
    {
      "cell_type": "code",
      "execution_count": null,
      "metadata": {
        "id": "NisxPTnr42ld"
      },
      "outputs": [],
      "source": [
        "import opendatasets as od\n",
        "download_url = ('https://www.kaggle.com/datasets/sobhanmoosavi/us-accidents')\n",
        "od.download(download_url)"
      ]
    },
    {
      "cell_type": "code",
      "execution_count": null,
      "metadata": {
        "id": "kZfcEPYR6YUe"
      },
      "outputs": [],
      "source": [
        "data_filename = './us-accidents/US_Accidents_Dec21_updated.csv'"
      ]
    },
    {
      "cell_type": "markdown",
      "metadata": {
        "id": "hRy9KNWz7H2z"
      },
      "source": [
        "#Data preparation and cleaning"
      ]
    },
    {
      "cell_type": "code",
      "execution_count": null,
      "metadata": {
        "id": "pMZV8Xs17Gjs"
      },
      "outputs": [],
      "source": [
        "import pandas as pd"
      ]
    },
    {
      "cell_type": "code",
      "execution_count": null,
      "metadata": {
        "colab": {
          "background_save": true
        },
        "id": "Bh9QGz3h7tHk"
      },
      "outputs": [],
      "source": [
        "df = pd.read_csv(data_filename)"
      ]
    },
    {
      "cell_type": "code",
      "execution_count": null,
      "metadata": {
        "colab": {
          "background_save": true
        },
        "id": "WqAouZR-7-yd"
      },
      "outputs": [],
      "source": [
        "df"
      ]
    },
    {
      "cell_type": "code",
      "execution_count": null,
      "metadata": {
        "colab": {
          "background_save": true
        },
        "id": "fWLIhPLS8Hrp"
      },
      "outputs": [],
      "source": [
        "df.columns"
      ]
    },
    {
      "cell_type": "code",
      "execution_count": null,
      "metadata": {
        "colab": {
          "background_save": true
        },
        "id": "k3kXQzoy8HkB"
      },
      "outputs": [],
      "source": [
        "len(df.columns)"
      ]
    },
    {
      "cell_type": "code",
      "execution_count": null,
      "metadata": {
        "colab": {
          "background_save": true
        },
        "id": "gY1k2QbJ8HgF"
      },
      "outputs": [],
      "source": [
        "len(df)"
      ]
    },
    {
      "cell_type": "code",
      "execution_count": null,
      "metadata": {
        "colab": {
          "background_save": true
        },
        "id": "zllieMf88Hea"
      },
      "outputs": [],
      "source": [
        "df.info"
      ]
    },
    {
      "cell_type": "code",
      "execution_count": null,
      "metadata": {
        "colab": {
          "background_save": true
        },
        "id": "dvbmajWN8jsN"
      },
      "outputs": [],
      "source": [
        "numerics = ['int16', 'int32', 'int64', 'float16', 'float32', 'float64']\n",
        "\n",
        "numeric_df = df.select_dtypes(include=numerics)\n",
        "len(numeric_df.columns)"
      ]
    },
    {
      "cell_type": "code",
      "execution_count": null,
      "metadata": {
        "colab": {
          "background_save": true
        },
        "id": "mPAT66ePKbod"
      },
      "outputs": [],
      "source": [
        "missing_percentage = df.isna().sum().sort_values(ascending = False)/ len(df)\n",
        "missing_percentage"
      ]
    },
    {
      "cell_type": "code",
      "execution_count": null,
      "metadata": {
        "colab": {
          "background_save": true
        },
        "id": "k3nDcyoygMv1"
      },
      "outputs": [],
      "source": [
        "missing_percentage[missing_percentage!=0]"
      ]
    },
    {
      "cell_type": "code",
      "execution_count": null,
      "metadata": {
        "colab": {
          "background_save": true
        },
        "id": "PPYxsqx5gVJu"
      },
      "outputs": [],
      "source": [
        "missing_percentage[missing_percentage!=0].plot(kind ='barh')"
      ]
    },
    {
      "cell_type": "markdown",
      "metadata": {
        "id": "WVx4TikVhypS"
      },
      "source": [
        "Remove columns that you don't wanna use"
      ]
    },
    {
      "cell_type": "code",
      "execution_count": null,
      "metadata": {
        "id": "FgAtKkn3hxrp"
      },
      "outputs": [],
      "source": []
    },
    {
      "cell_type": "markdown",
      "metadata": {
        "id": "ysvXbI8MiGE9"
      },
      "source": [
        "#Exploratory analysis and Visualization"
      ]
    },
    {
      "cell_type": "code",
      "execution_count": null,
      "metadata": {
        "colab": {
          "background_save": true
        },
        "id": "rfxLh9Q-iPX4"
      },
      "outputs": [],
      "source": [
        "df.columns\n"
      ]
    },
    {
      "cell_type": "code",
      "execution_count": null,
      "metadata": {
        "colab": {
          "background_save": true
        },
        "id": "sCyGFof5kNZk"
      },
      "outputs": [],
      "source": [
        "cities_by_accident = df.City.value_counts()\n",
        "cities_by_accident "
      ]
    },
    {
      "cell_type": "markdown",
      "metadata": {
        "id": "FI5osxtCnsk8"
      },
      "source": [
        "##Start Time"
      ]
    },
    {
      "cell_type": "code",
      "execution_count": null,
      "metadata": {
        "colab": {
          "background_save": true
        },
        "id": "akhl-pBnRtV7"
      },
      "outputs": [],
      "source": []
    },
    {
      "cell_type": "markdown",
      "metadata": {
        "id": "A881-kgkFYom"
      },
      "source": [
        "#quetions and anwers.\n",
        "Are there more accident in warmer and colder areas?\n",
        "Which 5 states have highest number of accidents? How about per capita?\n",
        "Does New York show up in the data? if Yes why is count lower if this the most populated city\n",
        "?\n",
        "Among top 100 cities in number of accidents,which states do they belong to mos t frequently?\n",
        "What time of the day accidents are most frequet in?\n",
        "Which days of the week have the most accidents?\n",
        "Which month of the year have the most accidents?\n",
        "What is the trend of the accident year over year(decreasing or increasing)? "
      ]
    },
    {
      "cell_type": "code",
      "execution_count": null,
      "metadata": {
        "colab": {
          "background_save": true
        },
        "id": "sdl19CorlOTq"
      },
      "outputs": [],
      "source": [
        "cities_by_accident = df.City.value_counts()\n",
        "cities_by_accident "
      ]
    },
    {
      "cell_type": "code",
      "execution_count": null,
      "metadata": {
        "colab": {
          "background_save": true
        },
        "id": "ZbShXjl9lhiN"
      },
      "outputs": [],
      "source": [
        "cities_by_accident [:13]"
      ]
    },
    {
      "cell_type": "code",
      "execution_count": null,
      "metadata": {
        "id": "Y0Cofy7Soks0"
      },
      "outputs": [],
      "source": [
        "from google.colab import drive\n",
        "drive.mount('/content/drive')"
      ]
    },
    {
      "cell_type": "code",
      "execution_count": null,
      "metadata": {
        "id": "83zXnwXBFDJ5"
      },
      "outputs": [],
      "source": []
    },
    {
      "cell_type": "code",
      "execution_count": null,
      "metadata": {
        "id": "ARHd2bpeG9Fx"
      },
      "outputs": [],
      "source": [
        "'New York City' in df.City"
      ]
    },
    {
      "cell_type": "code",
      "execution_count": null,
      "metadata": {
        "id": "hv4drFj2ICQU"
      },
      "outputs": [],
      "source": [
        "cities_by_accident[:20].plot(kind ='barh')"
      ]
    },
    {
      "cell_type": "code",
      "execution_count": null,
      "metadata": {
        "id": "oVOWPEoZMSlK"
      },
      "outputs": [],
      "source": [
        "import seaborn as sns\n",
        "sns.set_style(\"darkgrid\")"
      ]
    },
    {
      "cell_type": "code",
      "execution_count": null,
      "metadata": {
        "id": "x5Exu3XoMnD1"
      },
      "outputs": [],
      "source": [
        "sns.distplot(cities_by_accident)"
      ]
    },
    {
      "cell_type": "code",
      "execution_count": null,
      "metadata": {
        "id": "M9ZBcc1yNl35"
      },
      "outputs": [],
      "source": [
        "High_accident_cities = cities_by_accident[cities_by_accident>= 1000]\n",
        "Low_accident_cities = cities_by_accident[cities_by_accident <= 1000]"
      ]
    },
    {
      "cell_type": "code",
      "execution_count": null,
      "metadata": {
        "id": "2eCsAUUzOBy5"
      },
      "outputs": [],
      "source": [
        "len(High_accident_cities)"
      ]
    },
    {
      "cell_type": "code",
      "execution_count": null,
      "metadata": {
        "id": "Tnrzy_EpPd8R"
      },
      "outputs": [],
      "source": [
        "sns.histplot(High_accident_cities, log_scale= True)"
      ]
    },
    {
      "cell_type": "code",
      "execution_count": null,
      "metadata": {
        "id": "zB2lHZVsQTGy"
      },
      "outputs": [],
      "source": [
        "sns.histplot(Low_accident_cities, log_scale= True)"
      ]
    },
    {
      "cell_type": "code",
      "execution_count": null,
      "metadata": {
        "id": "SnNUMChkp5QM"
      },
      "outputs": [],
      "source": [
        "import pandas as pd\n",
        "\n"
      ]
    },
    {
      "cell_type": "markdown",
      "metadata": {
        "id": "Gw2BxpazOU_A"
      },
      "source": [
        "#Summary and Conclusion\n",
        "Insight:\n",
        "No data from New York.\n",
        "Number of acciedent per city decreases exponantialy.\n",
        "Less than 5% of cities have more than 1000 yearly accident."
      ]
    },
    {
      "cell_type": "code",
      "execution_count": null,
      "metadata": {
        "id": "9p02fw76PZ8B"
      },
      "outputs": [],
      "source": [
        "df.Start_Time = pd.to_datetime(df.Start_Time)"
      ]
    },
    {
      "cell_type": "code",
      "execution_count": null,
      "metadata": {
        "id": "GEKsPv2Jq5CQ"
      },
      "outputs": [],
      "source": [
        "df.Start_Time.dt.hour"
      ]
    },
    {
      "cell_type": "code",
      "execution_count": null,
      "metadata": {
        "id": "lze4RAdbw5Z6"
      },
      "outputs": [],
      "source": [
        "import seaborn as sns\n",
        "sns.set_style(\"darkgrid\")"
      ]
    },
    {
      "cell_type": "code",
      "execution_count": null,
      "metadata": {
        "colab": {
          "background_save": true
        },
        "id": "ikHp3Xiqw7kF"
      },
      "outputs": [],
      "source": [
        "sns.histplot(df.Start_Time.dt.hour,bins[24])"
      ]
    }
  ],
  "metadata": {
    "colab": {
      "provenance": []
    },
    "kernelspec": {
      "display_name": "Python 3",
      "language": "python",
      "name": "python3"
    },
    "language_info": {
      "codemirror_mode": {
        "name": "ipython",
        "version": 3
      },
      "file_extension": ".py",
      "mimetype": "text/x-python",
      "name": "python",
      "nbconvert_exporter": "python",
      "pygments_lexer": "ipython3",
      "version": "3.7.6"
    }
  },
  "nbformat": 4,
  "nbformat_minor": 0
}